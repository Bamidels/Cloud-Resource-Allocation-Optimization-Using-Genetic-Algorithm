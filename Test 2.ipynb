{
 "cells": [
  {
   "cell_type": "code",
   "execution_count": 5,
   "id": "a326de6c",
   "metadata": {},
   "outputs": [
    {
     "name": "stdout",
     "output_type": "stream",
     "text": [
      "Generation 0, Best Fitness: 0.904296875\n",
      "Generation 10, Best Fitness: 0.932421875\n",
      "Generation 20, Best Fitness: 0.951953125\n",
      "Generation 30, Best Fitness: 0.959375\n",
      "Generation 40, Best Fitness: 0.962109375\n",
      "Generation 50, Best Fitness: 0.970703125\n",
      "Generation 60, Best Fitness: 0.970703125\n",
      "Generation 70, Best Fitness: 0.970703125\n",
      "Generation 80, Best Fitness: 0.970703125\n",
      "Generation 90, Best Fitness: 0.970703125\n"
     ]
    },
    {
     "data": {
      "image/png": "[encoded data removed]",
      "text/plain": [
       "<Figure size 432x288 with 1 Axes>"
      ]
     },
     "metadata": {
      "needs_background": "light"
     },
     "output_type": "display_data"
    },
    {
     "name": "stdout",
     "output_type": "stream",
     "text": [
      "Best Allocation: [1, 1, 9, 7, 2, 8, 1, 3, 7, 1, 0, 5, 5, 9, 8, 2, 4, 6, 0, 7, 8, 4, 8, 4, 5, 3, 1, 2, 3, 0, 6, 9, 0, 0, 6, 7, 7, 9, 2, 4, 3, 4, 4, 9, 6, 2, 5, 9, 6, 0, 9, 3, 3, 4, 7, 5, 4, 7, 5, 1, 0, 8, 0, 3, 1, 6, 2, 4, 2, 4, 7, 6, 6, 9, 8, 3, 5, 8, 1, 8, 7, 4, 8, 9, 7, 9, 3, 9, 7, 1, 0, 7, 6, 5, 7, 1, 6, 3, 6, 0]\n",
      "Best Fitness: 0.970703125\n"
     ]
    }
   ],
   "source": [
    "import random\n",
    "import matplotlib.pyplot as plt\n",
    "\n",
    "class VirtualMachine:\n",
    "    def __init__(self, cpu, memory):\n",
    "        self.cpu = cpu\n",
    "        self.memory = memory\n",
    "\n",
    "class PhysicalServer:\n",
    "    def __init__(self, max_cpu, max_memory):\n",
    "        self.max_cpu = max_cpu\n",
    "        self.max_memory = max_memory\n",
    "        self.vms = []\n",
    "\n",
    "    def can_host(self, vm):\n",
    "        return self.available_cpu() >= vm.cpu and self.available_memory() >= vm.memory\n",
    "\n",
    "    def host(self, vm):\n",
    "        if self.can_host(vm):\n",
    "            self.vms.append(vm)\n",
    "            return True\n",
    "        return False  # Corrected: removed the erroneous line\n",
    "\n",
    "    def available_cpu(self):\n",
    "        return self.max_cpu - sum(vm.cpu for vm in self.vms)\n",
    "\n",
    "    def available_memory(self):\n",
    "        return self.max_memory - sum(vm.memory for vm in self.vms)\n",
    "\n",
    "    def utilization(self):\n",
    "        if not self.vms:  # Avoid division by zero for empty servers\n",
    "            return 0\n",
    "        return ((sum(vm.cpu for vm in self.vms) / self.max_cpu) + \n",
    "                (sum(vm.memory for vm in self.vms) / self.max_memory)) / 2\n",
    "\n",
    "class CloudEnvironment:\n",
    "    def __init__(self, servers, vms):\n",
    "        self.servers = servers\n",
    "        self.vms = vms\n",
    "\n",
    "    def fitness(self, allocation):\n",
    "        for server in self.servers:\n",
    "            server.vms = []\n",
    "        for vm_index, server_index in enumerate(allocation):\n",
    "            if server_index is not None:\n",
    "                self.servers[server_index].host(self.vms[vm_index])\n",
    "        total_utilization = sum(server.utilization() for server in self.servers if server.vms) / len(self.servers)\n",
    "        penalty_for_unallocated = allocation.count(None) * 0.01\n",
    "        for server in self.servers:\n",
    "            server.vms = []\n",
    "        return total_utilization - penalty_for_unallocated\n",
    "\n",
    "    def random_allocation(self):\n",
    "        return [random.choice(range(len(self.servers))) if self.servers else None for _ in self.vms]\n",
    "\n",
    "    def mutate(self, allocation):\n",
    "        mutated = allocation[:]\n",
    "        for i in range(len(mutated)):\n",
    "            if random.random() < 0.05:\n",
    "                mutated[i] = random.choice(range(len(self.servers)))\n",
    "        return mutated\n",
    "\n",
    "    def crossover(self, parent1, parent2):\n",
    "        crossover_point = random.randint(0, len(parent1))\n",
    "        child = parent1[:crossover_point] + parent2[crossover_point:]\n",
    "        return child\n",
    "\n",
    "    def optimize(self, generations=100, population_size=50):\n",
    "        population = [self.random_allocation() for _ in range(population_size)]\n",
    "        best_fitness_scores = []\n",
    "        for generation in range(generations):\n",
    "            sorted_population = sorted(population, key=self.fitness, reverse=True)\n",
    "            best_fitness = self.fitness(sorted_population[0])\n",
    "            best_fitness_scores.append(best_fitness)\n",
    "            if generation % 10 == 0:\n",
    "                print(f\"Generation {generation}, Best Fitness: {best_fitness}\")\n",
    "            new_population = sorted_population[:2]\n",
    "            while len(new_population) < population_size:\n",
    "                parent1, parent2 = random.sample(sorted_population[:10], 2)\n",
    "                child = self.crossover(parent1, parent2)\n",
    "                child = self.mutate(child)\n",
    "                new_population.append(child)\n",
    "            population = new_population\n",
    "        plt.plot(best_fitness_scores)\n",
    "        plt.xlabel('Generation')\n",
    "        plt.ylabel('Best Fitness Score')\n",
    "        plt.title('Evolution of Best Fitness Score Over Generations')\n",
    "        plt.show()\n",
    "        return sorted_population[0], best_fitness\n",
    "\n",
    "def generate_workload(num_vms):\n",
    "    return [VirtualMachine(random.randint(1, 16), random.randint(1, 32)) for _ in range(num_vms)]\n",
    "\n",
    "# Example usage\n",
    "num_servers = 10\n",
    "servers = [PhysicalServer(64, 128) for _ in range(num_servers)]\n",
    "vms = generate_workload(100)\n",
    "cloud_env = CloudEnvironment(servers, vms)\n",
    "\n",
    "best_allocation, best_fitness = cloud_env.optimize()\n",
    "print(f\"Best Allocation: {best_allocation}\")\n",
    "print(f\"Best Fitness: {best_fitness}\")\n"
   ]
  },
  {
   "cell_type": "code",
   "execution_count": null,
   "id": "f44efa86",
   "metadata": {},
   "outputs": [],
   "source": []
  }
 ],
 "metadata": {
  "kernelspec": {
   "display_name": "Python 3",
   "language": "python",
   "name": "python3"
  },
  "language_info": {
   "codemirror_mode": {
    "name": "ipython",
    "version": 3
   },
   "file_extension": ".py",
   "mimetype": "text/x-python",
   "name": "python",
   "nbconvert_exporter": "python",
   "pygments_lexer": "ipython3",
   "version": "3.8.8"
  }
 },
 "nbformat": 4,
 "nbformat_minor": 5
}
